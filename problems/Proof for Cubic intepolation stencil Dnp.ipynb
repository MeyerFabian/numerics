{
 "cells": [
  {
   "cell_type": "code",
   "execution_count": 1,
   "metadata": {},
   "outputs": [],
   "source": [
    "import numpy as np\n",
    "from sympy import *\n",
    "\n",
    "def round_expr(expr, num_digits):\n",
    "    return expr.xreplace({n : round(n, num_digits) for n in expr.atoms(Number)})\n",
    "\n",
    "# Limit a,b,c,x to interval [0,1] for simplyfing\n",
    "a, b, c = symbols('a b c', nonnegative=true)\n",
    "a = a/(1+a)\n",
    "b = b/(1+b)\n",
    "c = c/(1+c)\n",
    "\n",
    "x = symbols('x', nonnegative=true)\n",
    "x = x/(1+x)"
   ]
  },
  {
   "cell_type": "code",
   "execution_count": 2,
   "metadata": {},
   "outputs": [],
   "source": [
    "# Define cubic interpolation function\n",
    "def N1(x): \n",
    "    return 0.5*pow(abs(x),3)-pow(x,2)+2/3\n",
    "def N2(x):\n",
    "    return -1/6*pow(abs(x),3)+pow(x,2)-2*abs(x)+4/3\n",
    "def wip(i,x):\n",
    "    if(i==1 or i==2):\n",
    "        return N1(x)\n",
    "    else:\n",
    "        return N2(x)\n",
    "    \n",
    "# Define the parametrized position in the grid\n",
    "def grid_points(x):\n",
    "    return np.array([-x-1,-x,1-x,2-x])"
   ]
  },
  {
   "cell_type": "code",
   "execution_count": 3,
   "metadata": {},
   "outputs": [],
   "source": [
    "alphas = grid_points(a)\n",
    "betas = grid_points(b)\n",
    "gammas = grid_points(c)"
   ]
  },
  {
   "cell_type": "code",
   "execution_count": 4,
   "metadata": {},
   "outputs": [],
   "source": [
    "D_temp = np.array([[0,0,0],\n",
    "                   [0,0,0],\n",
    "                   [0,0,0]])"
   ]
  },
  {
   "cell_type": "code",
   "execution_count": 5,
   "metadata": {},
   "outputs": [],
   "source": [
    "# Loop over all grid nodes in the vicinity\n",
    "for i,ai in enumerate(alphas):\n",
    "    for j,bj in enumerate(betas):\n",
    "        for k,ck in enumerate(gammas):\n",
    "            # xi_xp is the distance from parametrized position to grid node [i,j,k]\n",
    "            xi_xp = np.array([ai,bj,ck])\n",
    "            # each outer product weighted by interpolation functions\n",
    "            this_outer = wip(i,ai)*wip(j,bj)*wip(k,ck)*np.outer(xi_xp,xi_xp)\n",
    "            # summed up over all grid nodes\n",
    "            D_temp = np.add(D_temp,this_outer)"
   ]
  },
  {
   "cell_type": "code",
   "execution_count": 6,
   "metadata": {},
   "outputs": [],
   "source": [
    "D = np.array([  [0.0,0.0,0.0],\n",
    "                [0.0,0.0,0.0],\n",
    "                [0.0,0.0,0.0]])"
   ]
  },
  {
   "cell_type": "code",
   "execution_count": 7,
   "metadata": {},
   "outputs": [
    {
     "name": "stdout",
     "output_type": "stream",
     "text": [
      "[[0.33333333 0.         0.        ]\n",
      " [0.         0.33333333 0.        ]\n",
      " [0.         0.         0.33333333]]\n"
     ]
    }
   ],
   "source": [
    "for i,D_row in enumerate(D_temp):\n",
    "    for j,D_ij in enumerate(D_row):\n",
    "        #simplify to cancel polynoms, round_expr because numerical cancellation\n",
    "        D[i][j] = round_expr(simplify(D_ij),14)\n",
    "print(D)"
   ]
  }
 ],
 "metadata": {
  "kernelspec": {
   "display_name": "Python 3",
   "language": "python",
   "name": "python3"
  },
  "language_info": {
   "codemirror_mode": {
    "name": "ipython",
    "version": 3
   },
   "file_extension": ".py",
   "mimetype": "text/x-python",
   "name": "python",
   "nbconvert_exporter": "python",
   "pygments_lexer": "ipython3",
   "version": "3.6.5"
  }
 },
 "nbformat": 4,
 "nbformat_minor": 2
}
