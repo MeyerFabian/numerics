{
 "cells": [
  {
   "attachments": {},
   "cell_type": "markdown",
   "metadata": {},
   "source": [
    "![](images/6.3.7.jpg)"
   ]
  },
  {
   "cell_type": "code",
   "execution_count": 1,
   "metadata": {},
   "outputs": [],
   "source": [
    "import numpy as np\n",
    "from sympy import *\n",
    "from numpy.linalg import inv,det\n",
    "def round_expr(expr, num_digits):\n",
    "    return expr.xreplace({n : round(n, num_digits) for n in expr.atoms(Number)})"
   ]
  },
  {
   "cell_type": "markdown",
   "metadata": {},
   "source": [
    "Plain strain element coords of nodes $ {}^0x^k $:"
   ]
  },
  {
   "cell_type": "code",
   "execution_count": 2,
   "metadata": {},
   "outputs": [],
   "source": [
    "x0 = np.array([[0.2,0.0,0.0,0.2],[0.2,0.2,0.0,0.0]])"
   ]
  },
  {
   "cell_type": "markdown",
   "metadata": {},
   "source": [
    "Deformation gradient $ {}^t_0\\textbf{X}_{ij}$ : $$ {}^t_0\\textbf{X}_{ij} ={}^t_0x_{i,j} = \\frac{\\partial {}^tx_i}{\\partial {}^0x_j} $$"
   ]
  },
  {
   "cell_type": "code",
   "execution_count": 3,
   "metadata": {},
   "outputs": [],
   "source": [
    "X= np.array([[1.0,0.5],[0,1.5]])\n",
    "xt = X.dot(x0)"
   ]
  },
  {
   "cell_type": "markdown",
   "metadata": {},
   "source": [
    "$$  \\textbf{C} =\n",
    "\\frac{E}{(1+\\nu)(1-2\\nu)} \\left(\\begin{array}{cc} \n",
    "1-\\nu & \\nu & 0\\\\\n",
    "\\nu & 1-\\nu & 0 \\\\\n",
    "0 & 0 & \\frac{1-2\\nu}{2}\n",
    "\\end{array}\\right)\n",
    "$$ "
   ]
  },
  {
   "cell_type": "code",
   "execution_count": 4,
   "metadata": {},
   "outputs": [
    {
     "name": "stdout",
     "output_type": "stream",
     "text": [
      "[[1.34615384615385*E 0.576923076923077*E 0]\n",
      " [0.576923076923077*E 1.34615384615385*E 0]\n",
      " [0 0 0.384615384615385*E]]\n"
     ]
    }
   ],
   "source": [
    "E = symbols('E')\n",
    "v=0.3\n",
    "stiffness_m = E/((1+v)*(1-2*v))*np.array([[1-v,v,0],[v,1-v,0],[0,0,(1-2*v)/2]])\n",
    "print(stiffness_m)"
   ]
  },
  {
   "cell_type": "markdown",
   "metadata": {},
   "source": [
    "Interpolation functions of form: \n",
    "$$ h_1 = \\frac{1}{4}(1+r)(1+s)$$\n",
    "$h_{1,1}$ is the derivative w.r.t. $\\frac{\\partial}{\\partial^0x_1}$ :\n",
    "$$h_{1,1}=\\frac{\\partial h_1}{\\partial r}\\frac{\\partial r}{\\partial^0x_1} = \\frac{5}{2}(1+s), \\frac{\\partial r}{\\partial^0x_1} = 10$$\n",
    "resp.:\n",
    "$$h_{1,2}=\\frac{\\partial h_1}{\\partial s}\\frac{\\partial s}{\\partial^0x_2} = \\frac{5}{2}(1+r), \\frac{\\partial s}{\\partial^0x_2} = 10$$"
   ]
  },
  {
   "cell_type": "code",
   "execution_count": 5,
   "metadata": {},
   "outputs": [],
   "source": [
    "x, y = symbols('x y')\n",
    "scale=[1/10,1/10];\n",
    "def h1(x,y): return 1/4*(1+x)*(1+y)\n",
    "def h2(x,y): return 1/4*(1-x)*(1+y)\n",
    "def h3(x,y): return 1/4*(1-x)*(1-y)\n",
    "def h4(x,y): return 1/4*(1+x)*(1-y)\n",
    "def hprime(h,x,y,j):\n",
    "    dim =[x,y]\n",
    "    return diff(h(x,y),dim[j]) / scale[j]\n",
    "list_of_interp_fcts = np.array([h1,h2,h3,h4])"
   ]
  },
  {
   "cell_type": "markdown",
   "metadata": {},
   "source": [
    "$$ {}^t_0\\textbf{B}_{L0} = \\begin{bmatrix}\n",
    "h_{1,1} & 0 &|& ...\\\\\n",
    "0 &h_{1,2} &|& ...\\\\\n",
    "h_{1,2} & h_{1,1} &|& ...\n",
    "\\end{bmatrix} $$"
   ]
  },
  {
   "cell_type": "code",
   "execution_count": 6,
   "metadata": {},
   "outputs": [
    {
     "name": "stdout",
     "output_type": "stream",
     "text": [
      "[2.5*y + 2.5 0 -2.5*y - 2.5 0 2.5*y - 2.5 0 -2.5*y + 2.5 0]\n"
     ]
    }
   ],
   "source": [
    "BL = np.array([]).reshape(0,3)\n",
    "for hi in list_of_interp_fcts:\n",
    "    BL=np.concatenate((BL,np.array([\n",
    "        [hprime(hi,x,y,0),0,hprime(hi,x,y,1)],\n",
    "        [0,hprime(hi,x,y,1),hprime(hi,x,y,0)]\n",
    "])))\n",
    "BL =BL.T\n",
    "print(BL[0])"
   ]
  },
  {
   "cell_type": "markdown",
   "metadata": {},
   "source": [
    "$$ {}^tu^k = {}^tx^k - {}^0x^k $$"
   ]
  },
  {
   "cell_type": "code",
   "execution_count": 7,
   "metadata": {},
   "outputs": [
    {
     "name": "stdout",
     "output_type": "stream",
     "text": [
      "[[0.1 0.1 0.  0. ]\n",
      " [0.1 0.1 0.  0. ]]\n"
     ]
    }
   ],
   "source": [
    "u = xt-x0\n",
    "print(u)"
   ]
  },
  {
   "cell_type": "markdown",
   "metadata": {},
   "source": [
    "$$l_{ij} = \\sum_{k=1}^{N} h_{k,j} {}^tu_i^k$$"
   ]
  },
  {
   "cell_type": "code",
   "execution_count": 8,
   "metadata": {},
   "outputs": [],
   "source": [
    "def lij(u,n,i,j):\n",
    "    h=[h1,h2,h3,h4]\n",
    "    lsum=0\n",
    "    for k in range(n):\n",
    "        lsum = lsum + hprime(h[k],x,y,j)*u[i][k]\n",
    "    return lsum"
   ]
  },
  {
   "cell_type": "markdown",
   "metadata": {},
   "source": [
    "$$ {}^t_0\\textbf{B}_{L1} = \\begin{bmatrix}\n",
    "l_{11}h_{1,1} & l_{21}h_{1,1} &|& ...\\\\\n",
    "l_{12}h_{1,2} & l_{22}h_{1,2} &|& ...\\\\\n",
    "l_{11}h_{1,2}+l_{12}h_{1,1} & l_{21}h_{1,2}+l_{22}h_{1,1} &|& ...\n",
    "\\end{bmatrix} $$"
   ]
  },
  {
   "cell_type": "code",
   "execution_count": 9,
   "metadata": {},
   "outputs": [],
   "source": [
    "BL1 = np.array([]).reshape(0,3)\n",
    "for hi in list_of_interp_fcts:\n",
    "    BL1=np.concatenate((BL1,np.array([\n",
    "        [hprime(hi,x,y,0)*lij(u,4,0,0),hprime(hi,x,y,1)*lij(u,4,0,1),hprime(hi,x,y,1)*lij(u,4,0,0)+hprime(hi,x,y,0)*lij(u,4,0,1)],\n",
    "        [hprime(hi,x,y,0)*lij(u,4,1,0),hprime(hi,x,y,1)*lij(u,4,1,1),hprime(hi,x,y,1)*lij(u,4,1,0)+hprime(hi,x,y,0)*lij(u,4,1,1)]\n",
    "])))\n",
    "BL1 =BL1.T"
   ]
  },
  {
   "cell_type": "markdown",
   "metadata": {},
   "source": [
    "$$ {}^t_0\\textbf{B}_L = {}^t_0\\textbf{B}_{L0} + {}^t_0\\textbf{B}_{L1} $$"
   ]
  },
  {
   "cell_type": "code",
   "execution_count": 10,
   "metadata": {},
   "outputs": [],
   "source": [
    "BL=BL+BL1"
   ]
  },
  {
   "cell_type": "markdown",
   "metadata": {},
   "source": [
    "$$ J = \\frac{\\partial^0x_1}{\\partial r}\\frac{\\partial^0x_2}{\\partial s} =\\frac{1}{10^2} $$"
   ]
  },
  {
   "cell_type": "markdown",
   "metadata": {},
   "source": [
    "$$ {}^t_0\\textbf{K}_L = \\int_{-1}^{1} \\int_{-1}^{1} {}^t_0\\textbf{B}^T_{L}\\textbf{C}{}_0^t\\textbf{B}_{L}\\frac{1}{10^2} dr ds $$"
   ]
  },
  {
   "cell_type": "code",
   "execution_count": 11,
   "metadata": {},
   "outputs": [],
   "source": [
    "stiffness_linear = BL.T.dot(stiffness_m).dot(BL)*scale[0]*scale[1]\n"
   ]
  },
  {
   "cell_type": "code",
   "execution_count": 12,
   "metadata": {},
   "outputs": [
    {
     "name": "stdout",
     "output_type": "stream",
     "text": [
      "0.9615*E\n"
     ]
    }
   ],
   "source": [
    "K = np.array([]).reshape(0,8);\n",
    "for row in stiffness_linear:\n",
    "    nodal_row = []\n",
    "    for element in row:\n",
    "        integration_over_volume= integrate(integrate(element,(x,-1,1)),(y,-1,1))\n",
    "        nodal_row.append(integration_over_volume)\n",
    "    K = np.concatenate((K,np.array([nodal_row])));\n",
    "print(round_expr(K[0][0],4))\n",
    "K =K.T"
   ]
  },
  {
   "cell_type": "markdown",
   "metadata": {},
   "source": [
    "$$ {}^t_0\\textbf{B}_{NL} = \\begin{bmatrix}\n",
    "h_{1,1} & 0 &|& ...\\\\\n",
    "h_{1,2} & 0 &|& ...\\\\\n",
    "0 & h_{1,1} &|& ...\\\\\n",
    "0 & h_{1,2} &|& ...\n",
    "\\end{bmatrix} $$"
   ]
  },
  {
   "cell_type": "code",
   "execution_count": 13,
   "metadata": {},
   "outputs": [],
   "source": [
    "BNL = np.array([]).reshape(0,4)\n",
    "for hi in list_of_interp_fcts:\n",
    "    BNL=np.concatenate((BNL,np.array([\n",
    "        [hprime(hi,x,y,0),hprime(hi,x,y,1),0,0],\n",
    "        [0,0,hprime(hi,x,y,0),hprime(hi,x,y,1)]\n",
    "    ])))\n",
    "BNL =BNL.T"
   ]
  },
  {
   "cell_type": "code",
   "execution_count": 14,
   "metadata": {},
   "outputs": [
    {
     "name": "stdout",
     "output_type": "stream",
     "text": [
      "[[5.849e+07 6.971e+07]\n",
      " [6.971e+07 1.514e+08]]\n"
     ]
    }
   ],
   "source": [
    "cauchy_stress = pow(10,7) * np.array([[5.849,6.971],[6.971,15.14]])\n",
    "print(cauchy_stress)"
   ]
  },
  {
   "cell_type": "markdown",
   "metadata": {},
   "source": [
    "$$ {}^t_0\\textbf{S} = det({}_0^t\\textbf{X}){}^0_t\\textbf{X} {}^t\\mathbf{\\sigma} {}^0_t\\textbf{X}^T  $$"
   ]
  },
  {
   "cell_type": "code",
   "execution_count": 15,
   "metadata": {},
   "outputs": [
    {
     "name": "stdout",
     "output_type": "stream",
     "text": [
      "[[4.32583333e+07 1.92433333e+07]\n",
      " [1.92433333e+07 1.00933333e+08]]\n"
     ]
    }
   ],
   "source": [
    "X0 = inv(X)\n",
    "piola_stress = det(X)* (X0).dot(cauchy_stress).dot(X0.T)\n",
    "print(piola_stress )"
   ]
  },
  {
   "cell_type": "code",
   "execution_count": 16,
   "metadata": {},
   "outputs": [],
   "source": [
    "exploded_piola = np.array([\n",
    "    [piola_stress[0][0], piola_stress[0][1], 0,0],\n",
    "    [piola_stress[0][1], piola_stress[1][1], 0,0],\n",
    "    [0,0,piola_stress[0][0], piola_stress[0][1]],\n",
    "    [0,0,piola_stress[0][0], piola_stress[0][1]]\n",
    "    ])"
   ]
  },
  {
   "cell_type": "markdown",
   "metadata": {},
   "source": [
    "$$ J = \\frac{\\partial^0x_1}{\\partial r}\\frac{\\partial^0x_2}{\\partial s} =\\frac{1}{10^2} $$"
   ]
  },
  {
   "cell_type": "markdown",
   "metadata": {},
   "source": [
    "$$ {}^t_0\\textbf{K}_{NL} = \\int_{-1}^{1} \\int_{-1}^{1} {}^t_0\\textbf{B}^T_{NL}\\textbf{S}_{exp}{}_0^t\\textbf{B}_{NL}\\frac{1}{10^2} dr ds $$"
   ]
  },
  {
   "cell_type": "code",
   "execution_count": 17,
   "metadata": {},
   "outputs": [],
   "source": [
    "stiffness_non_linear = BNL.T.dot(exploded_piola).dot(BNL) *scale[0]*scale[1]"
   ]
  },
  {
   "cell_type": "code",
   "execution_count": 18,
   "metadata": {},
   "outputs": [],
   "source": [
    "K_NL = np.array([]).reshape(0,8);\n",
    "for row in stiffness_non_linear:\n",
    "    nodal_row = []\n",
    "    for element in row:\n",
    "        integration_over_volume= integrate(integrate(element,(x,-1,1)),(y,-1,1))\n",
    "        nodal_row.append(integration_over_volume)\n",
    "    K_NL = np.concatenate((K_NL,np.array([nodal_row])));\n",
    "K_NL=K_NL.T"
   ]
  },
  {
   "cell_type": "markdown",
   "metadata": {},
   "source": [
    "$$ {}^t_0\\textbf{K} = {}^t_0\\textbf{K}_{L} + {}^t_0\\textbf{K}_{NL} $$"
   ]
  },
  {
   "cell_type": "code",
   "execution_count": 19,
   "metadata": {},
   "outputs": [
    {
     "name": "stdout",
     "output_type": "stream",
     "text": [
      "0.9615*E + 57685555.5556\n"
     ]
    }
   ],
   "source": [
    "K=K + K_NL\n",
    "print(round_expr(K[0][0],4))"
   ]
  }
 ],
 "metadata": {
  "kernelspec": {
   "display_name": "Python 3",
   "language": "python",
   "name": "python3"
  },
  "language_info": {
   "codemirror_mode": {
    "name": "ipython",
    "version": 3
   },
   "file_extension": ".py",
   "mimetype": "text/x-python",
   "name": "python",
   "nbconvert_exporter": "python",
   "pygments_lexer": "ipython3",
   "version": "3.6.5"
  }
 },
 "nbformat": 4,
 "nbformat_minor": 2
}
