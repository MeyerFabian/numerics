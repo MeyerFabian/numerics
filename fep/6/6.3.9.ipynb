{
 "cells": [
  {
   "cell_type": "code",
   "execution_count": 1,
   "metadata": {},
   "outputs": [],
   "source": [
    "import numpy as np\n",
    "from sympy import *\n",
    "from numpy.linalg import inv,det\n",
    "def round_expr(expr, num_digits):\n",
    "    return expr.xreplace({n : round(n, num_digits) for n in expr.atoms(Number)})"
   ]
  },
  {
   "cell_type": "code",
   "execution_count": 2,
   "metadata": {},
   "outputs": [],
   "source": [
    "x0 = np.array([[6.0,0.0,0.0,6.0],[4.0,4.0,0.0,0.0]])"
   ]
  },
  {
   "cell_type": "code",
   "execution_count": 3,
   "metadata": {},
   "outputs": [],
   "source": [
    "X= np.array([[1.25,0],[0,1.125]])"
   ]
  },
  {
   "cell_type": "code",
   "execution_count": 4,
   "metadata": {},
   "outputs": [
    {
     "name": "stdout",
     "output_type": "stream",
     "text": [
      "[[7.5 0.  0.  7.5]\n",
      " [4.5 4.5 0.  0. ]]\n"
     ]
    }
   ],
   "source": [
    "xt = X.dot(x0)\n",
    "print(xt)"
   ]
  },
  {
   "cell_type": "code",
   "execution_count": 5,
   "metadata": {},
   "outputs": [
    {
     "name": "stdout",
     "output_type": "stream",
     "text": [
      "[[100   0]\n",
      " [  0  60]]\n"
     ]
    }
   ],
   "source": [
    "\n",
    "piola_stress = np.array([[100,0],[0,60]])\n",
    "print(piola_stress)"
   ]
  },
  {
   "cell_type": "markdown",
   "metadata": {},
   "source": [
    "$$  \\textbf{C} =\n",
    "\\frac{E}{(1-\\nu^2)} \\left(\\begin{array}{cc} \n",
    "1 & \\nu & 0\\\\\n",
    "\\nu & 1 & 0 \\\\\n",
    "0 & 0 & \\frac{1-\\nu}{2}\n",
    "\\end{array}\\right)\n",
    "$$ "
   ]
  },
  {
   "cell_type": "code",
   "execution_count": 6,
   "metadata": {},
   "outputs": [
    {
     "name": "stdout",
     "output_type": "stream",
     "text": [
      "[[1.0989010989011*E 0.32967032967033*E 0]\n",
      " [0.32967032967033*E 1.0989010989011*E 0]\n",
      " [0 0 0.384615384615385*E]]\n"
     ]
    }
   ],
   "source": [
    "E = symbols('E')\n",
    "v=0.3\n",
    "stiffness_m = E/((1-v*v))*np.array([[1,v,0],[v,1,0],[0,0,(1-v)/2]])\n",
    "print(stiffness_m)"
   ]
  },
  {
   "cell_type": "markdown",
   "metadata": {},
   "source": [
    "Interpolation functions of form: \n",
    "$$ h_1 = \\frac{1}{4}(1+r)(1+s)$$\n",
    "$h_{1,1}$ is the derivative w.r.t. $\\frac{\\partial}{\\partial^0x_1}$ :\n",
    "$$h_{1,1}=\\frac{\\partial h_1}{\\partial r}\\frac{\\partial r}{\\partial^0x_1} = \\frac{1}{12}(1+s), \\frac{\\partial r}{\\partial^0x_1} = \\frac{1}{3}$$\n",
    "resp.:\n",
    "$$h_{1,2}=\\frac{\\partial h_1}{\\partial s}\\frac{\\partial s}{\\partial^0x_2} = \\frac{1}{8}(1+r), \\frac{\\partial s}{\\partial^0x_2} = \\frac{1}{2}$$"
   ]
  },
  {
   "cell_type": "code",
   "execution_count": 7,
   "metadata": {},
   "outputs": [],
   "source": [
    "x, y, h = symbols('x y h')\n",
    "scale=[3,2];\n",
    "def h1(x,y): return 1/4*(1+x)*(1+y)\n",
    "def h2(x,y): return 1/4*(1-x)*(1+y)\n",
    "def h3(x,y): return 1/4*(1-x)*(1-y)\n",
    "def h4(x,y): return 1/4*(1+x)*(1-y)\n",
    "def hprime(h,x,y,j):\n",
    "    dim =[x,y]\n",
    "    return diff(h(x,y),dim[j]) / scale[j]\n",
    "list_of_interp_fcts = np.array([h1,h2,h3,h4])"
   ]
  },
  {
   "cell_type": "markdown",
   "metadata": {},
   "source": [
    "$$ {}^t_0\\textbf{B}_{L0} = \\begin{bmatrix}\n",
    "h_{1,1} & 0 &|& ...\\\\\n",
    "0 &h_{1,2} &|& ...\\\\\n",
    "h_{1,2} & h_{1,1} &|& ...\n",
    "\\end{bmatrix} $$"
   ]
  },
  {
   "cell_type": "code",
   "execution_count": 8,
   "metadata": {},
   "outputs": [
    {
     "name": "stdout",
     "output_type": "stream",
     "text": [
      "0.0833333333333333*y + 0.0833333333333333\n"
     ]
    }
   ],
   "source": [
    "BL = np.array([]).reshape(0,3)\n",
    "for hi in list_of_interp_fcts:\n",
    "    BL=np.concatenate((BL,np.array([\n",
    "        [hprime(hi,x,y,0),0,hprime(hi,x,y,1)],\n",
    "        [0,hprime(hi,x,y,1),hprime(hi,x,y,0)]\n",
    "])))\n",
    "BL =BL.T\n",
    "print(BL[0][0])"
   ]
  },
  {
   "cell_type": "markdown",
   "metadata": {},
   "source": [
    "$$ {}^tu^k = {}^tx^k - {}^0x^k $$"
   ]
  },
  {
   "cell_type": "code",
   "execution_count": 9,
   "metadata": {},
   "outputs": [
    {
     "name": "stdout",
     "output_type": "stream",
     "text": [
      "[[1.5 0.  0.  1.5]\n",
      " [0.5 0.5 0.  0. ]]\n"
     ]
    }
   ],
   "source": [
    "u = xt-x0\n",
    "print(u)"
   ]
  },
  {
   "cell_type": "markdown",
   "metadata": {},
   "source": [
    "$$l_{ij} = \\sum_{k=1}^{N} h_{k,j} {}^tu_i^k$$"
   ]
  },
  {
   "cell_type": "code",
   "execution_count": 10,
   "metadata": {},
   "outputs": [],
   "source": [
    "def lij(u,n,i,j):\n",
    "    h=[h1,h2,h3,h4]\n",
    "    lsum=0\n",
    "    for k in range(n):\n",
    "        lsum = lsum + hprime(h[k],x,y,j)*u[i][k]\n",
    "    return lsum"
   ]
  },
  {
   "cell_type": "markdown",
   "metadata": {},
   "source": [
    "$$ {}^t_0\\textbf{B}_{L1} = \\begin{bmatrix}\n",
    "l_{11}h_{1,1} & l_{21}h_{1,1} &|& ...\\\\\n",
    "l_{12}h_{1,2} & l_{22}h_{1,2} &|& ...\\\\\n",
    "l_{11}h_{1,2}+l_{12}h_{1,1} & l_{21}h_{1,2}+l_{22}h_{1,1} &|& ...\n",
    "\\end{bmatrix} $$"
   ]
  },
  {
   "cell_type": "code",
   "execution_count": 11,
   "metadata": {},
   "outputs": [
    {
     "name": "stdout",
     "output_type": "stream",
     "text": [
      "0.0208333333333333*y + 0.0208333333333333\n"
     ]
    }
   ],
   "source": [
    "BL1 = np.array([]).reshape(0,3)\n",
    "for hi in list_of_interp_fcts:\n",
    "    BL1=np.concatenate((BL1,np.array([\n",
    "        [hprime(hi,x,y,0)*lij(u,4,0,0),hprime(hi,x,y,1)*lij(u,4,0,1),hprime(hi,x,y,1)*lij(u,4,0,0)+hprime(hi,x,y,0)*lij(u,4,0,1)],\n",
    "        [hprime(hi,x,y,0)*lij(u,4,1,0),hprime(hi,x,y,1)*lij(u,4,1,1),hprime(hi,x,y,1)*lij(u,4,1,0)+hprime(hi,x,y,0)*lij(u,4,1,1)]\n",
    "])))\n",
    "BL1 =BL1.T\n",
    "print(BL1[0][0])"
   ]
  },
  {
   "cell_type": "markdown",
   "metadata": {},
   "source": [
    "$$ {}^t_0\\textbf{B}_L = {}^t_0\\textbf{B}_{L0} + {}^t_0\\textbf{B}_{L1} $$"
   ]
  },
  {
   "cell_type": "code",
   "execution_count": 12,
   "metadata": {},
   "outputs": [
    {
     "name": "stdout",
     "output_type": "stream",
     "text": [
      "0.1042*y + 0.1042\n"
     ]
    }
   ],
   "source": [
    "BL=BL+BL1\n",
    "print(round_expr(BL[0][0],4))"
   ]
  },
  {
   "cell_type": "markdown",
   "metadata": {},
   "source": [
    "$$ J = \\frac{\\partial^0x_1}{\\partial r}\\frac{\\partial^0x_2}{\\partial s} = 6 $$"
   ]
  },
  {
   "cell_type": "markdown",
   "metadata": {},
   "source": [
    "$$ {}^t_0\\textbf{K}_L = \\int_{-1}^{1} \\int_{-1}^{1} {}^t_0\\textbf{B}^T_{L}\\textbf{C}{}_0^t\\textbf{B}_{L}\\ 6 h\\ dr ds $$"
   ]
  },
  {
   "cell_type": "code",
   "execution_count": 13,
   "metadata": {},
   "outputs": [],
   "source": [
    "stiffness_linear = BL.T.dot(stiffness_m).dot(BL)*scale[0]*scale[1]*h"
   ]
  },
  {
   "cell_type": "code",
   "execution_count": 14,
   "metadata": {},
   "outputs": [
    {
     "name": "stdout",
     "output_type": "stream",
     "text": [
      "0.682*E*h\n"
     ]
    }
   ],
   "source": [
    "K = np.array([]).reshape(0,8);\n",
    "for row in stiffness_linear:\n",
    "    nodal_row = []\n",
    "    for element in row:\n",
    "        integration_over_volume= integrate(integrate(element,(x,-1,1)),(y,-1,1))\n",
    "        nodal_row.append(integration_over_volume)\n",
    "    K = np.concatenate((K,np.array([nodal_row])));\n",
    "K =K.T\n",
    "print(round_expr(K[0][0],4))"
   ]
  },
  {
   "cell_type": "markdown",
   "metadata": {},
   "source": [
    "$$ {}^t_0\\textbf{B}_{NL} = \\begin{bmatrix}\n",
    "h_{1,1} & 0 &|& ...\\\\\n",
    "h_{1,2} & 0 &|& ...\\\\\n",
    "0 & h_{1,1} &|& ...\\\\\n",
    "0 & h_{1,2} &|& ...\n",
    "\\end{bmatrix} $$"
   ]
  },
  {
   "cell_type": "code",
   "execution_count": 15,
   "metadata": {},
   "outputs": [],
   "source": [
    "BNL = np.array([]).reshape(0,4)\n",
    "for hi in list_of_interp_fcts:\n",
    "    BNL=np.concatenate((BNL,np.array([\n",
    "        [hprime(hi,x,y,0),hprime(hi,x,y,1),0,0],\n",
    "        [0,0,hprime(hi,x,y,0),hprime(hi,x,y,1)]\n",
    "    ])))\n",
    "BNL =BNL.T"
   ]
  },
  {
   "cell_type": "code",
   "execution_count": 16,
   "metadata": {},
   "outputs": [],
   "source": [
    "exploded_piola = np.array([\n",
    "    [piola_stress[0][0], piola_stress[0][1], 0,0],\n",
    "    [piola_stress[0][1], piola_stress[1][1], 0,0],\n",
    "    [0,0,piola_stress[0][0], piola_stress[0][1]],\n",
    "    [0,0,piola_stress[0][0], piola_stress[0][1]]\n",
    "    ])"
   ]
  },
  {
   "cell_type": "markdown",
   "metadata": {},
   "source": [
    "$$ J = \\frac{\\partial^0x_1}{\\partial r}\\frac{\\partial^0x_2}{\\partial s} = 6 $$"
   ]
  },
  {
   "cell_type": "markdown",
   "metadata": {},
   "source": [
    "$$ {}^t_0\\textbf{K}_{NL} = \\int_{-1}^{1} \\int_{-1}^{1} {}^t_0\\textbf{B}^T_{NL}\\textbf{S}_{exp}{}_0^t\\textbf{B}_{NL}\\ 6h \\ dr ds $$"
   ]
  },
  {
   "cell_type": "code",
   "execution_count": 17,
   "metadata": {},
   "outputs": [],
   "source": [
    "stiffness_non_linear = BNL.T.dot(exploded_piola).dot(BNL) *scale[0]*scale[1]*h"
   ]
  },
  {
   "cell_type": "code",
   "execution_count": 18,
   "metadata": {},
   "outputs": [],
   "source": [
    "K_NL = np.array([]).reshape(0,8);\n",
    "for row in stiffness_non_linear:\n",
    "    nodal_row = []\n",
    "    for element in row:\n",
    "        integration_over_volume= integrate(integrate(element,(x,-1,1)),(y,-1,1))\n",
    "        nodal_row.append(integration_over_volume)\n",
    "    K_NL = np.concatenate((K_NL,np.array([nodal_row])));\n",
    "K_NL=K_NL.T"
   ]
  },
  {
   "cell_type": "markdown",
   "metadata": {},
   "source": [
    "$$ {}^t_0\\textbf{K} = {}^t_0\\textbf{K}_{L} + {}^t_0\\textbf{K}_{NL} $$"
   ]
  },
  {
   "cell_type": "code",
   "execution_count": 19,
   "metadata": {},
   "outputs": [
    {
     "name": "stdout",
     "output_type": "stream",
     "text": [
      "0.682*E*h + 52.2222*h\n"
     ]
    }
   ],
   "source": [
    "K=K + K_NL\n",
    "print(round_expr(K[0][0],4))"
   ]
  },
  {
   "cell_type": "code",
   "execution_count": 20,
   "metadata": {},
   "outputs": [],
   "source": [
    "stress_piola_v = [piola_stress[0][0],piola_stress[1][1],piola_stress[0][1]]"
   ]
  },
  {
   "cell_type": "markdown",
   "metadata": {},
   "source": [
    "$$ {}^t_0\\textbf{F} = \\int_{-1}^{1} \\int_{-1}^{1} {}^t_0\\textbf{B}^T_{L}{}_0^t\\textbf{S}_{vec} \\ 6h \\ dr ds $$"
   ]
  },
  {
   "cell_type": "code",
   "execution_count": 21,
   "metadata": {},
   "outputs": [],
   "source": [
    "force_per_volume = BL.T.dot(stress_piola_v) *scale[0]*scale[1]*h"
   ]
  },
  {
   "cell_type": "code",
   "execution_count": 22,
   "metadata": {},
   "outputs": [],
   "source": [
    "nodal_forces = np.empty(8,dtype=Symbol);\n",
    "for counter, element in enumerate(force_per_volume):\n",
    "    nodal_forces[counter] = integrate(integrate(element,(x,-1.0,1.0)),(y,-1.0,1.0))"
   ]
  },
  {
   "cell_type": "code",
   "execution_count": 23,
   "metadata": {},
   "outputs": [
    {
     "name": "stdout",
     "output_type": "stream",
     "text": [
      "250.0*h\n"
     ]
    }
   ],
   "source": [
    "print(nodal_forces[0])"
   ]
  },
  {
   "cell_type": "code",
   "execution_count": null,
   "metadata": {},
   "outputs": [],
   "source": []
  }
 ],
 "metadata": {
  "kernelspec": {
   "display_name": "Python 3",
   "language": "python",
   "name": "python3"
  },
  "language_info": {
   "codemirror_mode": {
    "name": "ipython",
    "version": 3
   },
   "file_extension": ".py",
   "mimetype": "text/x-python",
   "name": "python",
   "nbconvert_exporter": "python",
   "pygments_lexer": "ipython3",
   "version": "3.6.5"
  }
 },
 "nbformat": 4,
 "nbformat_minor": 2
}
