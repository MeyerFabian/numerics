{
 "cells": [
  {
   "cell_type": "code",
   "execution_count": 1,
   "metadata": {},
   "outputs": [],
   "source": [
    "import numpy as np"
   ]
  },
  {
   "cell_type": "code",
   "execution_count": 2,
   "metadata": {},
   "outputs": [],
   "source": [
    "from sympy import *"
   ]
  },
  {
   "cell_type": "markdown",
   "metadata": {},
   "source": [
    "$U$ corresponds to a stretch/scale of the element."
   ]
  },
  {
   "cell_type": "code",
   "execution_count": 3,
   "metadata": {},
   "outputs": [],
   "source": [
    "def_gradient_no_rot_m = np.array([[3/2,0],[0,2]])"
   ]
  },
  {
   "cell_type": "markdown",
   "metadata": {},
   "source": [
    "$$ {}^t_0\\mathbf{\\varepsilon}  = \\frac{1}{2}(\\mathbf{U}^2 - I) $$"
   ]
  },
  {
   "cell_type": "code",
   "execution_count": 4,
   "metadata": {},
   "outputs": [
    {
     "name": "stdout",
     "output_type": "stream",
     "text": [
      "[[0.625 0.   ]\n",
      " [0.    1.5  ]]\n"
     ]
    }
   ],
   "source": [
    "strain_m = 0.5*(def_gradient_no_rot_m.dot(def_gradient_no_rot_m)-np.identity(2))\n",
    "print(strain_m)"
   ]
  },
  {
   "cell_type": "markdown",
   "metadata": {},
   "source": [
    "Symmetric Matrix $$ {}^t_0\\mathbf{\\varepsilon}_{2x2} $$ to vector $$ {}^t_0\\varepsilon_{rs} = [\\varepsilon_{11},\\varepsilon_{22},\\varepsilon_{12}] $$"
   ]
  },
  {
   "cell_type": "code",
   "execution_count": 5,
   "metadata": {},
   "outputs": [
    {
     "name": "stdout",
     "output_type": "stream",
     "text": [
      "[0.625 1.5   0.   ]\n"
     ]
    }
   ],
   "source": [
    "strain_v = np.array([strain_m[0][0],strain_m[1][1],strain_m[0][1]])\n",
    "print(strain_v)"
   ]
  },
  {
   "cell_type": "code",
   "execution_count": 6,
   "metadata": {},
   "outputs": [],
   "source": [
    "E = 20000\n",
    "v = 0.3"
   ]
  },
  {
   "cell_type": "markdown",
   "metadata": {},
   "source": [
    "$$  \\textbf{C} =\n",
    "\\frac{E}{(1+\\nu)(1-2\\nu)} \\left(\\begin{array}{cc} \n",
    "1-\\nu & \\nu & 0\\\\\n",
    "\\nu & 1-\\nu & 0 \\\\\n",
    "0 & 0 & \\frac{1-2\\nu}{2}\n",
    "\\end{array}\\right)\n",
    "$$ "
   ]
  },
  {
   "cell_type": "code",
   "execution_count": 7,
   "metadata": {},
   "outputs": [
    {
     "name": "stdout",
     "output_type": "stream",
     "text": [
      "[[26923.07692308 11538.46153846     0.        ]\n",
      " [11538.46153846 26923.07692308     0.        ]\n",
      " [    0.             0.          7692.30769231]]\n"
     ]
    }
   ],
   "source": [
    "stiffness_m = E/((1+v)*(1-2*v))*np.array([[1-v,v,0],[v,1-v,0],[0,0,(1-2*v)/2]])\n",
    "print(stiffness_m)"
   ]
  },
  {
   "cell_type": "markdown",
   "metadata": {},
   "source": [
    " $$ {}^t_0S_{ij} = C_{ijrs}{}^t_0\\varepsilon_{rs} $$"
   ]
  },
  {
   "cell_type": "code",
   "execution_count": 8,
   "metadata": {},
   "outputs": [
    {
     "name": "stdout",
     "output_type": "stream",
     "text": [
      "[34134.61538462 47596.15384615     0.        ]\n"
     ]
    }
   ],
   "source": [
    "stress_piola_v = stiffness_m.dot(strain_v) \n",
    "print(stress_piola_v)"
   ]
  },
  {
   "cell_type": "markdown",
   "metadata": {},
   "source": [
    "Interpolation functions of form: \n",
    "$$ h_1 = \\frac{1}{4}(1+r)(1+s)$$\n",
    "$h_{1,1}$ is the derivative w.r.t. $\\frac{\\partial}{\\partial^0x_1}$ :\n",
    "$$h_{1,1}=\\frac{\\partial h_1}{\\partial r}\\frac{\\partial r}{\\partial^0x_1} = \\frac{1}{4}(1+s), \\frac{\\partial r}{\\partial^0x_1} =1$$\n",
    "resp.:\n",
    "$$h_{1,2}=\\frac{\\partial h_1}{\\partial s}\\frac{\\partial s}{\\partial^0x_2} = \\frac{1}{2}(1+r), \\frac{\\partial s}{\\partial^0x_2} =2$$"
   ]
  },
  {
   "cell_type": "code",
   "execution_count": 9,
   "metadata": {},
   "outputs": [],
   "source": [
    "x, y = symbols('x y')\n",
    "scale=[1,1/2];\n",
    "def h1(x,y): return 1/4*(1+x)*(1+y)\n",
    "def h2(x,y): return 1/4*(1-x)*(1+y)\n",
    "def h3(x,y): return 1/4*(1-x)*(1-y)\n",
    "def h4(x,y): return 1/4*(1+x)*(1-y)\n",
    "def hprime(h,x,y,j):\n",
    "    dim =[x,y]\n",
    "    return diff(h(x,y),dim[j]) / scale[j]\n",
    "list_of_interp_fcts = np.array([h1,h2,h3,h4])"
   ]
  },
  {
   "cell_type": "markdown",
   "metadata": {},
   "source": [
    "$$ {}^t_0\\textbf{B}_{L0} = \\begin{bmatrix}\n",
    "h_{1,1} & 0 &|& ...\\\\\n",
    "0 &h_{1,2} &|& ...\\\\\n",
    "h_{1,2} & h_{1,1} &|& ...\n",
    "\\end{bmatrix} $$"
   ]
  },
  {
   "cell_type": "code",
   "execution_count": 10,
   "metadata": {
    "scrolled": true
   },
   "outputs": [],
   "source": [
    "BL = np.array([]).reshape(0,3)\n",
    "for hi in list_of_interp_fcts:\n",
    "    BL=np.concatenate((BL,np.array([\n",
    "        [hprime(hi,x,y,0),0,hprime(hi,x,y,1)],\n",
    "        [0,hprime(hi,x,y,1),hprime(hi,x,y,0)]\n",
    "])))\n",
    "BL =BL.T"
   ]
  },
  {
   "cell_type": "code",
   "execution_count": 11,
   "metadata": {},
   "outputs": [],
   "source": [
    "xn = np.array([[2,1],[0,1],[0,0],[2,0]])\n",
    "x0 = xn.T + np.array([np.repeat(1,1),np.repeat(1,1)])\n",
    "R = np.array([[cos(np.radians(30)),-sin(np.radians(30))],[sin(np.radians(30)),cos(np.radians(30))]])\n",
    "\n",
    "\n",
    "xt=R.dot(def_gradient_no_rot_m.dot(xn.T)) + np.array([np.repeat(4,4),np.repeat(1.5,4)])"
   ]
  },
  {
   "cell_type": "code",
   "execution_count": 12,
   "metadata": {},
   "outputs": [],
   "source": [
    "u=xt-x0"
   ]
  },
  {
   "cell_type": "markdown",
   "metadata": {},
   "source": [
    "$$l_{ij} = \\sum_{k=1}^{N} h_{k,j} {}^tu_i^k$$"
   ]
  },
  {
   "cell_type": "code",
   "execution_count": 13,
   "metadata": {},
   "outputs": [],
   "source": [
    "def lij(u,n,i,j):\n",
    "    h=[h1,h2,h3,h4]\n",
    "    lsum=0\n",
    "    for k in range(n):\n",
    "        lsum+=hprime(h[k],x,y,j)*u[i][k]\n",
    "    return lsum"
   ]
  },
  {
   "cell_type": "markdown",
   "metadata": {},
   "source": [
    "$$ {}^t_0\\textbf{B}_{L1} = \\begin{bmatrix}\n",
    "l_{11}h_{1,1} & l_{21}h_{1,1} &|& ...\\\\\n",
    "l_{12}h_{1,2} & l_{22}h_{1,2} &|& ...\\\\\n",
    "l_{11}h_{1,2}+l_{12}h_{1,1} & l_{21}h_{1,2}+l_{22}h_{1,1} &|& ...\n",
    "\\end{bmatrix} $$"
   ]
  },
  {
   "cell_type": "code",
   "execution_count": 14,
   "metadata": {},
   "outputs": [],
   "source": [
    "BL1 = np.array([]).reshape(0,3)\n",
    "for hi in list_of_interp_fcts:\n",
    "    BL1=np.concatenate((BL1,np.array([\n",
    "        [hprime(hi,x,y,0)*lij(u,4,0,0),hprime(hi,x,y,1)*lij(u,4,0,1),hprime(hi,x,y,1)*lij(u,4,0,0)+hprime(hi,x,y,0)*lij(u,4,0,1)],\n",
    "        [hprime(hi,x,y,0)*lij(u,4,1,0),hprime(hi,x,y,1)*lij(u,4,1,1),hprime(hi,x,y,1)*lij(u,4,1,0)+hprime(hi,x,y,0)*lij(u,4,1,1)]\n",
    "])))\n",
    "BL1 =BL1.T"
   ]
  },
  {
   "cell_type": "markdown",
   "metadata": {},
   "source": [
    "$$ {}^t_0\\textbf{B}_L = {}^t_0\\textbf{B}_{L0} + {}^t_0\\textbf{B}_{L1} $$"
   ]
  },
  {
   "cell_type": "code",
   "execution_count": 15,
   "metadata": {},
   "outputs": [],
   "source": [
    "BL=BL+BL1"
   ]
  },
  {
   "cell_type": "markdown",
   "metadata": {},
   "source": [
    "$$ J = \\frac{\\partial^0x_2}{\\partial s} =\\frac{1}{2} $$\n",
    "$$ {}^t_0\\textbf{F} = \\int_{-1}^{1} \\int_{-1}^{1} {}^t_0\\textbf{B}^T_{L}{}_0^t\\textbf{S}\\frac{1}{2} dr ds $$"
   ]
  },
  {
   "cell_type": "code",
   "execution_count": 16,
   "metadata": {},
   "outputs": [],
   "source": [
    "force_per_volume = BL.T.dot(stress_piola_v) *scale[0]*scale[1]\n"
   ]
  },
  {
   "cell_type": "code",
   "execution_count": 17,
   "metadata": {},
   "outputs": [],
   "source": [
    "nodal_forces = np.empty(8);\n",
    "for counter, element in enumerate(force_per_volume):\n",
    "    nodal_forces[counter] = (N((integrate(integrate(element,(x,-1,1)),(y,-1,1)))))"
   ]
  },
  {
   "cell_type": "markdown",
   "metadata": {},
   "source": [
    "Reshaping ${}^t_0\\textbf{F}$ once to rotate, reshaping for the sake of staying with the convention."
   ]
  },
  {
   "cell_type": "code",
   "execution_count": 18,
   "metadata": {},
   "outputs": [
    {
     "name": "stdout",
     "output_type": "stream",
     "text": [
      "[[-25425.07079254 -69767.23689977  25425.07079254  69767.23689977]\n",
      " [ 95239.43747563  69638.47593717 -95239.43747563 -69638.47593717]]\n"
     ]
    }
   ],
   "source": [
    "nodal_forces = nodal_forces.reshape(4,2).T\n",
    "print(nodal_forces)"
   ]
  },
  {
   "cell_type": "code",
   "execution_count": 19,
   "metadata": {},
   "outputs": [],
   "source": [
    "Rotate_cc_90 = np.array([[cos(np.radians(90)),-sin(np.radians(90))],[sin(np.radians(90)),cos(np.radians(90))]])"
   ]
  },
  {
   "cell_type": "code",
   "execution_count": 20,
   "metadata": {
    "scrolled": true
   },
   "outputs": [
    {
     "data": {
      "text/plain": [
       "array([-95239.4374756340, -25425.0707925378, -69638.4759371725,\n",
       "       -69767.2368997699, 95239.4374756341, 25425.0707925378,\n",
       "       69638.4759371725, 69767.2368997699], dtype=object)"
      ]
     },
     "execution_count": 20,
     "metadata": {},
     "output_type": "execute_result"
    }
   ],
   "source": [
    "Rotate_cc_90.dot(nodal_forces).T.reshape(8)"
   ]
  }
 ],
 "metadata": {
  "kernelspec": {
   "display_name": "Python 3",
   "language": "python",
   "name": "python3"
  },
  "language_info": {
   "codemirror_mode": {
    "name": "ipython",
    "version": 3
   },
   "file_extension": ".py",
   "mimetype": "text/x-python",
   "name": "python",
   "nbconvert_exporter": "python",
   "pygments_lexer": "ipython3",
   "version": "3.6.5"
  }
 },
 "nbformat": 4,
 "nbformat_minor": 2
}
