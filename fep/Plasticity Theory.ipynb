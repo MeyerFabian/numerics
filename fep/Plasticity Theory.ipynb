{
 "cells": [
  {
   "cell_type": "markdown",
   "metadata": {},
   "source": [
    "# 1D Plasticity Theory"
   ]
  },
  {
   "cell_type": "code",
   "execution_count": 1,
   "metadata": {},
   "outputs": [],
   "source": [
    "from matplotlib import pyplot as plt\n",
    "import numpy as np"
   ]
  },
  {
   "cell_type": "markdown",
   "metadata": {},
   "source": [
    "## Loading only (NO History)"
   ]
  },
  {
   "cell_type": "code",
   "execution_count": 2,
   "metadata": {},
   "outputs": [],
   "source": [
    "E_EL = pow(10,7)\n",
    "E_P = pow(10,6)\n",
    "eng_strain = np.linspace(0,4.0,num=400)\n",
    "\n",
    "k_init = pow(10,7)\n",
    "eng_strain_init = k_init/E_EL"
   ]
  },
  {
   "cell_type": "code",
   "execution_count": 3,
   "metadata": {},
   "outputs": [],
   "source": [
    "eng_stress = np.empty(eng_strain.size);\n",
    "for (i,element) in enumerate(eng_strain):\n",
    "    if eng_strain_init > element:\n",
    "        eng_stress[i] = E_EL * element\n",
    "    else:\n",
    "        eng_stress[i]= k_init + E_P *(element-eng_strain_init)"
   ]
  },
  {
   "cell_type": "code",
   "execution_count": 4,
   "metadata": {},
   "outputs": [
    {
     "data": {
      "text/plain": [
       "[<matplotlib.lines.Line2D at 0x20d3ac7eb70>]"
      ]
     },
     "execution_count": 4,
     "metadata": {},
     "output_type": "execute_result"
    },
    {
     "data": {
      "image/png": "[encoded data removed]",
      "text/plain": [
       "<Figure size 432x288 with 1 Axes>"
      ]
     },
     "metadata": {},
     "output_type": "display_data"
    }
   ],
   "source": [
    "plt.plot(eng_strain,eng_stress)"
   ]
  },
  {
   "cell_type": "markdown",
   "metadata": {},
   "source": [
    "## Elasto-Plastic Increments"
   ]
  },
  {
   "cell_type": "code",
   "execution_count": 5,
   "metadata": {
    "scrolled": false
   },
   "outputs": [],
   "source": [
    "# SUBSEQUENT LOADING, First:+, Second:-\n",
    "eng_strain = np.append(eng_strain,eng_strain[::-1])\n",
    "\n",
    "eng_stress = np.empty(eng_strain.size);\n",
    "\n",
    "def F(stress,strain_p,strain_p_eff):\n",
    "    return abs(stress - H()*strain_p) - (k_init + E_P*strain_p_eff)\n",
    "    \n",
    "def H():\n",
    "    return 1e6\n",
    "def E_ELPL(E_EL,E_P,H):\n",
    "    return E_EL/(E_EL+H()+E_P)*( H() + E_P)\n",
    "\n",
    "def lam(E_EL,E_P,H,flow):\n",
    "    return flow * E_EL/(E_EL+H()+E_P)\n",
    "\n",
    "def flow(stress,p_strain,H):\n",
    "    return np.sign(stress-H()*p_strain)\n",
    "\n",
    "strain_increments = np.empty((eng_strain.size -1))\n",
    "\n",
    "for i in range(eng_strain.size -1):\n",
    "    strain_increments[i]=eng_strain[i+1]-eng_strain[i]\n",
    "    \n",
    "class State:\n",
    "    ELASTIC, PLASTIC = range(2)\n",
    "    \n",
    "p_strain = 0;\n",
    "e_strain = 0;\n",
    "p_strain_eff = 0;\n",
    "stress = 0;  \n",
    "state = State.ELASTIC\n",
    "\n",
    "for (i,strain_inc) in enumerate(strain_increments):  \n",
    "    stress_inc = E_EL*(strain_inc)\n",
    "    rest = F(stress+stress_inc,p_strain,p_strain_eff)\n",
    "    if(rest<=0):\n",
    "        stress += stress_inc\n",
    "        state = State.ELASTIC\n",
    "        assert F(stress,p_strain,p_strain_eff) <= 0\n",
    "    else:\n",
    "        if(state == State.ELASTIC):\n",
    "            e_stress_inc = (stress_inc-flow(stress,p_strain,H)*rest)\n",
    "            stress += e_stress_inc\n",
    "            e_strain_inc=e_stress_inc/E_EL\n",
    "            strain_inc = strain_inc - e_strain_inc\n",
    "            state = State.PLASTIC    \n",
    "        stress += E_ELPL(E_EL,E_P,H)*(strain_inc)\n",
    "        p_strain += flow(stress,p_strain,H)*strain_inc *lam(E_EL,E_P,H,flow(stress,p_strain,H))\n",
    "        p_strain_eff += abs(strain_inc *lam(E_EL,E_P,H,flow(stress,p_strain,H)))\n",
    "        assert abs(F(stress,p_strain,p_strain_eff)) < 1e-7\n",
    "    eng_stress[i+1] =stress;"
   ]
  },
  {
   "cell_type": "code",
   "execution_count": 6,
   "metadata": {},
   "outputs": [
    {
     "data": {
      "text/plain": [
       "[<matplotlib.lines.Line2D at 0x20d3ad606a0>]"
      ]
     },
     "execution_count": 6,
     "metadata": {},
     "output_type": "execute_result"
    },
    {
     "data": {
      "image/png": "[encoded data removed]",
      "text/plain": [
       "<Figure size 432x288 with 1 Axes>"
      ]
     },
     "metadata": {},
     "output_type": "display_data"
    }
   ],
   "source": [
    "plt.plot(eng_strain,eng_stress)"
   ]
  }
 ],
 "metadata": {
  "kernelspec": {
   "display_name": "Python 3",
   "language": "python",
   "name": "python3"
  },
  "language_info": {
   "codemirror_mode": {
    "name": "ipython",
    "version": 3
   },
   "file_extension": ".py",
   "mimetype": "text/x-python",
   "name": "python",
   "nbconvert_exporter": "python",
   "pygments_lexer": "ipython3",
   "version": "3.6.5"
  }
 },
 "nbformat": 4,
 "nbformat_minor": 2
}
